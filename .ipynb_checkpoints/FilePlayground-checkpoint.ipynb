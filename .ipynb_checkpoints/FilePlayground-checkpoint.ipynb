{
 "cells": [
  {
   "cell_type": "code",
   "execution_count": 35,
   "id": "44b44b81-d7b6-4624-a1a0-b8bfb07f7aa5",
   "metadata": {},
   "outputs": [
    {
     "name": "stdout",
     "output_type": "stream",
     "text": [
      "En route , they pick up a seemingly-harmless hitchhiker , and continue their , journey only for their car to break down in a deserted motel on a lonely highway .\n",
      "Jobs, however, are not created by supporting a few multinational giants, which will often strike sail at the first signs of an economic heawdind, leaving their massive redundant crews to take to the lifeboats; on the contrary, jobs are created by promoting small and medium-sized businesses, which, after all, are the largest overall employers of manpower, not only in Austria.\n",
      "Due to circumstances , he is forced to abandon his studies , though he comes first in his in school the board exam .\n",
      "I should just like to hihglight two issues.\n",
      "Jerry is finally released from hospital and returns London to look for Diana .\n",
      "In this context, the Israeli Government must refrain from creating new installations unilaterally, carrying out expulsions of Palestinians and maintaining its in East settlement policy Jerusalem.\n",
      "   Mr President, Julio Medem's film is a bid to smelt dialogue using the metaphor of the Basque national game.\n",
      "An American author living in England gets involevd with the wife of a jewel fence .\n"
     ]
    }
   ],
   "source": [
    "filename = 'small.txt'\n",
    "with open(filename, 'r') as file:\n",
    "    for line in file:\n",
    "        line = line.strip().split('\\t')\n",
    "        print(line[1]) # Line 0 is good line, and line 1 is bad line"
   ]
  },
  {
   "cell_type": "code",
   "execution_count": null,
   "id": "31fa7685-dda5-4a26-a2fc-c64f9bb1fda7",
   "metadata": {},
   "outputs": [],
   "source": []
  }
 ],
 "metadata": {
  "kernelspec": {
   "display_name": "Python 3 (ipykernel)",
   "language": "python",
   "name": "python3"
  },
  "language_info": {
   "codemirror_mode": {
    "name": "ipython",
    "version": 3
   },
   "file_extension": ".py",
   "mimetype": "text/x-python",
   "name": "python",
   "nbconvert_exporter": "python",
   "pygments_lexer": "ipython3",
   "version": "3.12.2"
  }
 },
 "nbformat": 4,
 "nbformat_minor": 5
}
