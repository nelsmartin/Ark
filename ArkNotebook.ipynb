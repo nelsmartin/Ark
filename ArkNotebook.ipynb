{
 "cells": [
  {
   "cell_type": "code",
   "execution_count": 9,
   "id": "5cd24f3c-85d8-4915-99f3-03584033400d",
   "metadata": {},
   "outputs": [],
   "source": [
    "import torch\n",
    "import string\n",
    "from io import open\n",
    "import unicodedata\n",
    "import os\n",
    "import pandas as pd\n",
    "from torchvision.io import read_image\n",
    "from torch.utils.data import Dataset\n",
    "import matplotlib.pyplot as plt\n",
    "import string\n",
    "import time"
   ]
  },
  {
   "cell_type": "code",
   "execution_count": 434,
   "id": "15b2cb62-5c28-484f-b829-54dcd316c87b",
   "metadata": {},
   "outputs": [
    {
     "name": "stdout",
     "output_type": "stream",
     "text": [
      "97\n"
     ]
    }
   ],
   "source": [
    "def unicodeToAscii(s):\n",
    "    return ''.join(\n",
    "        c for c in unicodedata.normalize('NFD', s)\n",
    "        if unicodedata.category(c) != 'Mn'\n",
    "        and c in allowed_characters\n",
    "    )\n",
    "char_set = set()\n",
    "with open('small.txt', 'r') as file:\n",
    "            for line in file:\n",
    "                for i in range(len(line)):\n",
    "                    char_set.add(line[i])\n",
    "extras = string.ascii_letters + \".,:'0123456789\"\n",
    "chars = \"\"\n",
    "\n",
    "for i in range(len(extras)):\n",
    "    char_set.add(extras[i])\n",
    "    \n",
    "for letter in char_set:\n",
    "    chars += letter\n",
    "\n",
    "                    \n",
    "allowed_characters = chars\n",
    "\n",
    "n_letters = len(allowed_characters)\n",
    "print(n_letters)\n",
    "def letterToIndex(letter):\n",
    "    return allowed_characters.find(letter)\n",
    "\n",
    "\n",
    "def lineToTensor(line):\n",
    "    line = unicodeToAscii(line)\n",
    "    tensor = torch.zeros(len(line), 1, n_letters)\n",
    "    for li, letter in enumerate(line):\n",
    "        tensor[li][0][letterToIndex(letter)] = 1\n",
    "    return tensor\n",
    "\n",
    "# Check if CUDA is available\n",
    "device = torch.device('cpu')\n",
    "if torch.cuda.is_available():\n",
    "    device = torch.device('cuda')\n",
    "\n",
    "torch.set_default_device(device)\n",
    "\n"
   ]
  },
  {
   "cell_type": "code",
   "execution_count": 436,
   "id": "0656e93f-fb83-41ed-aac5-a1b3dce66f5d",
   "metadata": {},
   "outputs": [],
   "source": [
    "class TextDataset(Dataset):\n",
    "\n",
    "    def __init__(self, filename):\n",
    "        self.load_time = time.localtime\n",
    "        labels_set = set()\n",
    "        self.filename = filename\n",
    "\n",
    "        self.data = []\n",
    "        self.data_tensors = []\n",
    "        self.labels = []\n",
    "        self.labels_tensors = []\n",
    "\n",
    "\n",
    "        with open(filename, 'r') as file:\n",
    "            for line in file:\n",
    "                line = line.strip().split('\\t')\n",
    "                \n",
    "                self.data.append(line[0])\n",
    "                self.data.append(line[1])\n",
    "                self.data_tensors.append(lineToTensor(line[0]))\n",
    "                self.data_tensors.append(lineToTensor(line[1]))\n",
    "\n",
    "                self.labels.append('A')\n",
    "                self.labels.append('B')\n",
    "\n",
    "        labels_set.add('A')\n",
    "        labels_set.add('B')\n",
    "        self.labels_uniq = list(labels_set)\n",
    "        # Creates a list of tensor labels, one for each data tensor. \n",
    "        for idx in range(len(self.labels)):\n",
    "            temp_tensor = torch.tensor([self.labels_uniq.index(self.labels[idx])], \n",
    "            dtype=torch.long)\n",
    "            self.labels_tensors.append(temp_tensor)\n",
    "\n",
    "    def __len__(self):\n",
    "            return len(self.data)\n",
    "        \n",
    "    def __getitem__(self, idx):\n",
    "        data_item = self.data[idx]\n",
    "        data_label = self.labels[idx]\n",
    "        data_tensor = self.data_tensors[idx]\n",
    "        label_tensor = self.labels_tensors[idx]\n",
    "\n",
    "        return label_tensor, data_tensor, data_label, data_item\n",
    "    "
   ]
  },
  {
   "cell_type": "code",
   "execution_count": 438,
   "id": "fbbeb057-407c-40f9-a9b5-dc1b45c8e3aa",
   "metadata": {},
   "outputs": [
    {
     "name": "stdout",
     "output_type": "stream",
     "text": [
      "train examples = 1700, validation examples = 300\n"
     ]
    }
   ],
   "source": [
    "\n",
    "\n",
    "filename = 'small.txt'\n",
    "data_set = TextDataset(filename)\n",
    "\n",
    "train_set, test_set = torch.utils.data.random_split(data_set, [.85, .15], generator=torch.Generator(device=device).manual_seed(2024))\n",
    "\n",
    "print(f\"train examples = {len(train_set)}, validation examples = {len(test_set)}\")"
   ]
  },
  {
   "cell_type": "code",
   "execution_count": 442,
   "id": "24bb6069-75cc-4c84-9b1a-b99db0d335e1",
   "metadata": {},
   "outputs": [],
   "source": [
    "import torch.nn as nn\n",
    "import torch.nn.functional as F\n"
   ]
  },
  {
   "cell_type": "code",
   "execution_count": 444,
   "id": "b99e07ad-e67a-454c-9b0f-e1aa30cdb8dc",
   "metadata": {},
   "outputs": [],
   "source": [
    "class CharRNN(nn.Module):\n",
    "    def __init__(self, input_size, hidden_size, output_size):\n",
    "        super(CharRNN, self).__init__()\n",
    "\n",
    "        self.rnn = nn.RNN(input_size, hidden_size)\n",
    "        self.h2o = nn.Linear(hidden_size, output_size)\n",
    "        self.softmax = nn.LogSoftmax(dim=1)\n",
    "\n",
    "    def forward(self, line_tensor):\n",
    "        rnn_out, hidden = self.rnn(line_tensor)\n",
    "        output = self.h2o(hidden[0])\n",
    "        output = self.softmax(output)\n",
    "\n",
    "        return output"
   ]
  },
  {
   "cell_type": "code",
   "execution_count": 446,
   "id": "767ecabc-51d9-4044-b86a-b7c614accb5f",
   "metadata": {},
   "outputs": [
    {
     "name": "stdout",
     "output_type": "stream",
     "text": [
      "CharRNN(\n",
      "  (rnn): RNN(97, 128)\n",
      "  (h2o): Linear(in_features=128, out_features=2, bias=True)\n",
      "  (softmax): LogSoftmax(dim=1)\n",
      ")\n"
     ]
    }
   ],
   "source": [
    "n_hidden = 128\n",
    "rnn = CharRNN(n_letters, n_hidden, len(data_set.labels_uniq))\n",
    "print(rnn)"
   ]
  },
  {
   "cell_type": "code",
   "execution_count": 448,
   "id": "e06167bf-3241-4400-ab47-ad9d0d6811ea",
   "metadata": {},
   "outputs": [],
   "source": [
    "def label_from_output(output, output_labels):\n",
    "    top_n, top_i = output.topk(1)\n",
    "    label_i = top_i[0].item()\n",
    "    return output_labels[label_i], label_i"
   ]
  },
  {
   "cell_type": "code",
   "execution_count": 450,
   "id": "a83344ea-bc96-4d75-9707-42e362a54622",
   "metadata": {},
   "outputs": [],
   "source": [
    "import random\n",
    "import numpy as np\n"
   ]
  },
  {
   "cell_type": "code",
   "execution_count": 452,
   "id": "f1da7ae2-694a-46f1-a4b7-2afe6ab8a378",
   "metadata": {},
   "outputs": [],
   "source": [
    "def train(rnn, training_data, n_epoch = 10, n_batch_size = 64, report_every = 50, learning_rate = 0.2, criterion = nn.NLLLoss()):\n",
    "    \"\"\"\n",
    "    Learn on a batch of training_data for a specified number of iterations and reporting thresholds\n",
    "    \"\"\"\n",
    "    # Keep track of losses for plotting\n",
    "    current_loss = 0\n",
    "    all_losses = []\n",
    "    rnn.train()\n",
    "    optimizer = torch.optim.SGD(rnn.parameters(), lr=learning_rate)\n",
    "\n",
    "    start = time.time()\n",
    "    print(f\"training on data set with n = {len(training_data)}\")\n",
    "\n",
    "    for iter in range(1, n_epoch + 1):\n",
    "        rnn.zero_grad() # clear the gradients\n",
    "\n",
    "        # create some minibatches\n",
    "        # we cannot use dataloaders because each of our names is a different length\n",
    "        batches = list(range(len(training_data)))\n",
    "        random.shuffle(batches)\n",
    "        batches = np.array_split(batches, len(batches) //n_batch_size )\n",
    "\n",
    "        for idx, batch in enumerate(batches):\n",
    "            batch_loss = 0\n",
    "            for i in batch: #for each example in this batch\n",
    "                (label_tensor, text_tensor, label, text) = training_data[i]\n",
    "                output = rnn.forward(text_tensor)\n",
    "                loss = criterion(output, label_tensor)\n",
    "                batch_loss += loss\n",
    "\n",
    "            # optimize parameters\n",
    "            batch_loss.backward()\n",
    "            nn.utils.clip_grad_norm_(rnn.parameters(), 3)\n",
    "            optimizer.step()\n",
    "            optimizer.zero_grad()\n",
    "\n",
    "            current_loss += batch_loss.item() / len(batch)\n",
    "\n",
    "        all_losses.append(current_loss / len(batches) )\n",
    "        if iter % report_every == 0:\n",
    "            print(f\"{iter} ({iter / n_epoch:.0%}): \\t average batch loss = {all_losses[-1]}\")\n",
    "        current_loss = 0\n",
    "\n",
    "    return all_losses"
   ]
  },
  {
   "cell_type": "code",
   "execution_count": 454,
   "id": "e40cb511-0b41-4ee5-8dff-24c04edf5c83",
   "metadata": {},
   "outputs": [
    {
     "name": "stdout",
     "output_type": "stream",
     "text": [
      "training on data set with n = 1700\n",
      "1 (4%): \t average batch loss = 0.9774202187086534\n",
      "2 (7%): \t average batch loss = 2.3060521017207627\n",
      "3 (11%): \t average batch loss = 2.7349215286744633\n",
      "4 (15%): \t average batch loss = 2.815400856165811\n",
      "5 (19%): \t average batch loss = 1.7744065552004054\n",
      "6 (22%): \t average batch loss = 1.5760199816825033\n",
      "7 (26%): \t average batch loss = 3.4366920712303255\n",
      "8 (30%): \t average batch loss = 2.4360463708580364\n",
      "9 (33%): \t average batch loss = 2.8450088926427832\n",
      "10 (37%): \t average batch loss = 1.7346863096325078\n",
      "11 (41%): \t average batch loss = 2.074778377272353\n",
      "12 (44%): \t average batch loss = 2.143980283636292\n",
      "13 (48%): \t average batch loss = 1.7509391258325933\n",
      "14 (52%): \t average batch loss = 1.947639126954635\n",
      "15 (56%): \t average batch loss = 2.1563340046680675\n",
      "16 (59%): \t average batch loss = 2.0075365034038075\n",
      "17 (63%): \t average batch loss = 2.052566726818635\n",
      "18 (67%): \t average batch loss = 2.195920034281686\n",
      "19 (70%): \t average batch loss = 2.2300136932104917\n",
      "20 (74%): \t average batch loss = 1.8476685062796276\n",
      "21 (78%): \t average batch loss = 1.5877701681190783\n",
      "22 (81%): \t average batch loss = 1.8876281861060193\n",
      "23 (85%): \t average batch loss = 1.5712864894774599\n",
      "24 (89%): \t average batch loss = 1.9173054576967488\n",
      "25 (93%): \t average batch loss = 1.8369025716906449\n",
      "26 (96%): \t average batch loss = 1.695986746134287\n",
      "27 (100%): \t average batch loss = 1.670863097479678\n",
      "training took 839.07852602005s\n"
     ]
    }
   ],
   "source": [
    "start = time.time()\n",
    "all_losses = train(rnn, train_set, n_epoch=27, learning_rate=0.30, report_every=1)\n",
    "end = time.time()\n",
    "print(f\"training took {end-start}s\")"
   ]
  },
  {
   "cell_type": "code",
   "execution_count": 456,
   "id": "63f5f53e-eec3-478c-a4c4-146b5105e4c3",
   "metadata": {},
   "outputs": [
    {
     "data": {
      "image/png": "[encoded data removed]",
      "text/plain": [
       "<Figure size 640x480 with 1 Axes>"
      ]
     },
     "metadata": {},
     "output_type": "display_data"
    }
   ],
   "source": [
    "import matplotlib.pyplot as plt\n",
    "import matplotlib.ticker as ticker\n",
    "\n",
    "plt.figure()\n",
    "plt.plot(all_losses)\n",
    "plt.show()\n"
   ]
  },
  {
   "cell_type": "code",
   "execution_count": 464,
   "id": "6b0cddfd-3b3c-40dc-9a0a-2f33155be24f",
   "metadata": {},
   "outputs": [
    {
     "name": "stdout",
     "output_type": "stream",
     "text": [
      "0.49645\n"
     ]
    }
   ],
   "source": [
    "def label_from_output(output, output_labels):\n",
    "    top_n, top_i = output.topk(1)\n",
    "    label_i = top_i[0].item()\n",
    "    return output_labels[label_i], label_i\n",
    "\n",
    "\n",
    "def evaluate(rnn, testing_data, classes):\n",
    "\n",
    "    rnn.eval() #set to eval mode\n",
    "    with torch.no_grad(): # do not record the gradients during eval phase\n",
    "        total = 0\n",
    "        correct = 0\n",
    "        for i in range(len(testing_data)):\n",
    "            (label_tensor, text_tensor, label, text) = testing_data[i]\n",
    "            output = rnn(text_tensor)\n",
    "            guess, guess_i = label_from_output(output, classes)\n",
    "            if (guess == label):\n",
    "                correct += 1\n",
    "            total += 1\n",
    "            \n",
    "        ratio = correct / total\n",
    "        print(ratio)\n",
    "                \n",
    "\n",
    "\n",
    "\n",
    "\n",
    "test_set = TextDataset('small.txt')\n",
    "evaluate(rnn, test_set, classes=data_set.labels_uniq)"
   ]
  },
  {
   "cell_type": "code",
   "execution_count": 476,
   "id": "8eff60b7-cf06-46ff-96c4-8dcaf3af73c5",
   "metadata": {},
   "outputs": [
    {
     "name": "stdout",
     "output_type": "stream",
     "text": [
      "                                                                             , journey                                                                           \n",
      "                                                                                                                                           wd                                                                                                                                                                                                                                            \n",
      "                                                                                          in school                 \n",
      "                        hg                 \n",
      "                                                    L nd   to l ok for Diana .\n",
      "                                                                                                                                                               in East settlement policy           \n",
      "                                               ev                                  \n",
      "            fight .\n",
      "                      ead                                                                                       \n"
     ]
    }
   ],
   "source": [
    "with open('mini.txt', 'r') as file:\n",
    "        for line in file:\n",
    "            line = line.strip().split('\\t')\n",
    "            if len(line[0]) >= len(line[1]):\n",
    "                new_string = \"\"\n",
    "                for i in range(len(line[1])):\n",
    "                    if line[0][i] == line[1][i]:\n",
    "                        new_string += \" \"\n",
    "                    else: \n",
    "                        new_string += line[1][i]\n",
    "                print(new_string)\n"
   ]
  },
  {
   "cell_type": "code",
   "execution_count": null,
   "id": "23351b59-ba8d-44c1-91a2-c62f74cdc21b",
   "metadata": {},
   "outputs": [],
   "source": []
  },
  {
   "cell_type": "code",
   "execution_count": null,
   "id": "7398b947-ab66-4930-bdee-424a89457134",
   "metadata": {},
   "outputs": [],
   "source": []
  }
 ],
 "metadata": {
  "kernelspec": {
   "display_name": "Python 3 (ipykernel)",
   "language": "python",
   "name": "python3"
  },
  "language_info": {
   "codemirror_mode": {
    "name": "ipython",
    "version": 3
   },
   "file_extension": ".py",
   "mimetype": "text/x-python",
   "name": "python",
   "nbconvert_exporter": "python",
   "pygments_lexer": "ipython3",
   "version": "3.12.2"
  }
 },
 "nbformat": 4,
 "nbformat_minor": 5
}
